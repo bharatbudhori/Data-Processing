{
  "nbformat": 4,
  "nbformat_minor": 0,
  "metadata": {
    "colab": {
      "name": "Data_Processing.ipynb",
      "provenance": [],
      "toc_visible": true,
      "authorship_tag": "ABX9TyNlDz3Ef6+zMYtT2jYIiGId",
      "include_colab_link": true
    },
    "kernelspec": {
      "name": "python3",
      "display_name": "Python 3"
    },
    "language_info": {
      "name": "python"
    }
  },
  "cells": [
    {
      "cell_type": "markdown",
      "metadata": {
        "id": "view-in-github",
        "colab_type": "text"
      },
      "source": [
        "<a href=\"https://colab.research.google.com/github/bharatbudhori/Data-Processing/blob/master/Data_Processing.ipynb\" target=\"_parent\"><img src=\"https://colab.research.google.com/assets/colab-badge.svg\" alt=\"Open In Colab\"/></a>"
      ]
    },
    {
      "cell_type": "markdown",
      "metadata": {
        "id": "uZsbhvL8BjPa"
      },
      "source": [
        "#**Data Preprocessing Tools**"
      ]
    },
    {
      "cell_type": "markdown",
      "metadata": {
        "id": "TjfsWnfNf9Fq"
      },
      "source": [
        "##Importing Libraries"
      ]
    },
    {
      "cell_type": "code",
      "metadata": {
        "id": "eVmIkffqBcxp"
      },
      "source": [
        "import numpy as np\n",
        "import pandas as pd\n",
        "import matplotlib.pyplot as plt"
      ],
      "execution_count": 1,
      "outputs": []
    },
    {
      "cell_type": "markdown",
      "metadata": {
        "id": "MXdvtCbwgijn"
      },
      "source": [
        "##Importing Datasets"
      ]
    },
    {
      "cell_type": "code",
      "metadata": {
        "id": "zy-6om-Mgo-J"
      },
      "source": [
        "dataset = pd.read_csv('Data.csv')\n",
        "\n",
        "##features matrix\n",
        "x = dataset.iloc[ : , :-1].values\n",
        "\n",
        "##dependent variable vector\n",
        "y = dataset.iloc[ : ,-1].values"
      ],
      "execution_count": 4,
      "outputs": []
    },
    {
      "cell_type": "code",
      "metadata": {
        "colab": {
          "base_uri": "https://localhost:8080/"
        },
        "id": "edvcw5HCj18y",
        "outputId": "991fe892-c9be-4537-abdb-caeb71d23570"
      },
      "source": [
        "print(x)"
      ],
      "execution_count": 5,
      "outputs": [
        {
          "output_type": "stream",
          "text": [
            "[['France' 44.0 72000.0]\n",
            " ['Spain' 27.0 48000.0]\n",
            " ['Germany' 30.0 54000.0]\n",
            " ['Spain' 38.0 61000.0]\n",
            " ['Germany' 40.0 nan]\n",
            " ['France' 35.0 58000.0]\n",
            " ['Spain' nan 52000.0]\n",
            " ['France' 48.0 79000.0]\n",
            " ['Germany' 50.0 83000.0]\n",
            " ['France' 37.0 67000.0]]\n"
          ],
          "name": "stdout"
        }
      ]
    },
    {
      "cell_type": "code",
      "metadata": {
        "colab": {
          "base_uri": "https://localhost:8080/"
        },
        "id": "c-ckxQ87j8FQ",
        "outputId": "f568e4b1-b40e-45a2-8bf3-8c9b9ff7c3fd"
      },
      "source": [
        "print(y)"
      ],
      "execution_count": 6,
      "outputs": [
        {
          "output_type": "stream",
          "text": [
            "['No' 'Yes' 'No' 'No' 'Yes' 'Yes' 'No' 'Yes' 'No' 'Yes']\n"
          ],
          "name": "stdout"
        }
      ]
    },
    {
      "cell_type": "markdown",
      "metadata": {
        "id": "poMFgpcnkqz5"
      },
      "source": [
        "##Taking care of missing data"
      ]
    },
    {
      "cell_type": "code",
      "metadata": {
        "id": "J1FQyNagkwZI"
      },
      "source": [
        ""
      ],
      "execution_count": null,
      "outputs": []
    }
  ]
}