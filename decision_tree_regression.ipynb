{
  "nbformat": 4,
  "nbformat_minor": 0,
  "metadata": {
    "colab": {
      "name": "decision_tree_regression.ipynb",
      "provenance": [],
      "toc_visible": true,
      "authorship_tag": "ABX9TyMf9z+JDrHZ0AZ8EmtkVhtF",
      "include_colab_link": true
    },
    "kernelspec": {
      "name": "python3",
      "display_name": "Python 3"
    },
    "language_info": {
      "name": "python"
    }
  },
  "cells": [
    {
      "cell_type": "markdown",
      "metadata": {
        "id": "view-in-github",
        "colab_type": "text"
      },
      "source": [
        "<a href=\"https://colab.research.google.com/github/bharatbudhori/Data-Processing/blob/master/decision_tree_regression.ipynb\" target=\"_parent\"><img src=\"https://colab.research.google.com/assets/colab-badge.svg\" alt=\"Open In Colab\"/></a>"
      ]
    },
    {
      "cell_type": "markdown",
      "metadata": {
        "id": "PRe6LOA_k-Al"
      },
      "source": [
        "#**Decision Tree Regression**"
      ]
    },
    {
      "cell_type": "markdown",
      "metadata": {
        "id": "By59cd3NlHkF"
      },
      "source": [
        "##Importing Libraries"
      ]
    },
    {
      "cell_type": "code",
      "metadata": {
        "id": "2N1VXpERk0mu"
      },
      "source": [
        "import numpy as np\n",
        "import pandas as pd\n",
        "import matplotlib.pyplot as plt"
      ],
      "execution_count": null,
      "outputs": []
    },
    {
      "cell_type": "markdown",
      "metadata": {
        "id": "zMs8Fsailo_u"
      },
      "source": [
        "##Importing the Dataset"
      ]
    },
    {
      "cell_type": "code",
      "metadata": {
        "id": "3Jv7bSh9l1m-"
      },
      "source": [
        "dataset = pd.read_csv('Position_Salaries.csv')\n",
        "\n",
        "##features matrix\n",
        "x = dataset.iloc[ : , :-1].values\n",
        "\n",
        "##dependent variable vector\n",
        "y = dataset.iloc[ : ,-1].values"
      ],
      "execution_count": null,
      "outputs": []
    },
    {
      "cell_type": "markdown",
      "metadata": {
        "id": "9UlUphN8l9We"
      },
      "source": [
        "##Training the Decision Tree Regression Model on whole Dataset"
      ]
    },
    {
      "cell_type": "code",
      "metadata": {
        "id": "OJdknG7ymGhu"
      },
      "source": [
        ""
      ],
      "execution_count": null,
      "outputs": []
    }
  ]
}